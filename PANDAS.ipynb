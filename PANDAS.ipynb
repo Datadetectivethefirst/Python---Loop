{
 "cells": [
  {
   "cell_type": "markdown",
   "id": "68cf610d",
   "metadata": {},
   "source": [
    "# Why Use Pandas?\n",
    "Pandas allows us to analyze big data and make conclusions based on statistical theories.\n",
    "Pandas can clean messy data sets, and make them readable and relevant.\n",
    "Relevant data is very important in data science.\n",
    "Data Science : is a branch of computer science where we study how to store, use and analyze data for\n",
    "deriving information from it.\n"
   ]
  },
  {
   "cell_type": "markdown",
   "id": "013e40ec",
   "metadata": {},
   "source": [
    "# What Can Pandas Do?\n",
    "Pandas gives you answers about the data. Like:\n",
    "Is there a correlation between two or more columns? What is average value? Max value? Min value? Pandas\n",
    "are also able to delete rows that are not relevant, or contains wrong values, like empty or NULL values. This is\n",
    "called cleaning the data."
   ]
  },
  {
   "cell_type": "markdown",
   "id": "251d5393",
   "metadata": {},
   "source": [
    "# Pandas Getting Started\n",
    "Installation of Pandas If you have Python and PIP already installed on a system, then installation of Pandas is\n",
    "very easy.\n",
    "Install it using this command:\n",
    "C:\\Users\\Your Name>pip install pandas\n",
    "If this command fails, then use a python distribution that already has Pandas installed like, Anaconda, Spyder\n",
    "etc."
   ]
  },
  {
   "cell_type": "markdown",
   "id": "2a4b79bf",
   "metadata": {},
   "source": [
    "# Import Pandas\n",
    "Once Pandas is installed, import it in your applications by adding the import keyword:"
   ]
  },
  {
   "cell_type": "code",
   "execution_count": 16,
   "id": "5ea809d7",
   "metadata": {},
   "outputs": [],
   "source": [
    "import pandas"
   ]
  },
  {
   "cell_type": "code",
   "execution_count": 17,
   "id": "445e3130",
   "metadata": {},
   "outputs": [],
   "source": [
    "import pandas as pd\n",
    "Nigeria_election_result = {\n",
    "    'Name': ['Tinubu', 'Obi', 'Atiku', 'Kwakwaso'],\n",
    "    'Party': ['APC', 'LP', 'PDP', 'NNPP']\n",
    "}"
   ]
  },
  {
   "cell_type": "code",
   "execution_count": 18,
   "id": "d3bf5f3b",
   "metadata": {},
   "outputs": [],
   "source": [
    "Nigeria_election_result= pandas.DataFrame(Nigeria_election_result)"
   ]
  },
  {
   "cell_type": "code",
   "execution_count": 19,
   "id": "f4234e93",
   "metadata": {},
   "outputs": [
    {
     "data": {
      "text/html": [
       "<div>\n",
       "<style scoped>\n",
       "    .dataframe tbody tr th:only-of-type {\n",
       "        vertical-align: middle;\n",
       "    }\n",
       "\n",
       "    .dataframe tbody tr th {\n",
       "        vertical-align: top;\n",
       "    }\n",
       "\n",
       "    .dataframe thead th {\n",
       "        text-align: right;\n",
       "    }\n",
       "</style>\n",
       "<table border=\"1\" class=\"dataframe\">\n",
       "  <thead>\n",
       "    <tr style=\"text-align: right;\">\n",
       "      <th></th>\n",
       "      <th>Name</th>\n",
       "      <th>Party</th>\n",
       "    </tr>\n",
       "  </thead>\n",
       "  <tbody>\n",
       "    <tr>\n",
       "      <th>0</th>\n",
       "      <td>Tinubu</td>\n",
       "      <td>APC</td>\n",
       "    </tr>\n",
       "    <tr>\n",
       "      <th>1</th>\n",
       "      <td>Obi</td>\n",
       "      <td>LP</td>\n",
       "    </tr>\n",
       "    <tr>\n",
       "      <th>2</th>\n",
       "      <td>Atiku</td>\n",
       "      <td>PDP</td>\n",
       "    </tr>\n",
       "    <tr>\n",
       "      <th>3</th>\n",
       "      <td>Kwakwaso</td>\n",
       "      <td>NNPP</td>\n",
       "    </tr>\n",
       "  </tbody>\n",
       "</table>\n",
       "</div>"
      ],
      "text/plain": [
       "       Name Party\n",
       "0    Tinubu   APC\n",
       "1       Obi    LP\n",
       "2     Atiku   PDP\n",
       "3  Kwakwaso  NNPP"
      ]
     },
     "execution_count": 19,
     "metadata": {},
     "output_type": "execute_result"
    }
   ],
   "source": [
    "Nigeria_election_result"
   ]
  },
  {
   "cell_type": "code",
   "execution_count": null,
   "id": "1dbf8d42",
   "metadata": {},
   "outputs": [],
   "source": []
  },
  {
   "cell_type": "code",
   "execution_count": null,
   "id": "36b97864",
   "metadata": {},
   "outputs": [],
   "source": []
  },
  {
   "cell_type": "code",
   "execution_count": null,
   "id": "a1d03a66",
   "metadata": {},
   "outputs": [],
   "source": []
  },
  {
   "cell_type": "markdown",
   "id": "e05bccec",
   "metadata": {},
   "source": [
    "# Pandas as pd\n",
    "Pandas is usually imported under the pd alias.\n",
    "alias: In Python alias are an alternate name for referring to the same thing.\n",
    "Create an alias with the as keyword while importing:"
   ]
  },
  {
   "cell_type": "code",
   "execution_count": null,
   "id": "236ab6c9",
   "metadata": {},
   "outputs": [],
   "source": [
    "import pandas as pd"
   ]
  },
  {
   "cell_type": "code",
   "execution_count": 20,
   "id": "e85f6215",
   "metadata": {},
   "outputs": [],
   "source": [
    "import pandas as pd\n",
    "Nigeria_election_result = {\n",
    "\n",
    " 'Name' : ['Bola Amed Tinubu', 'Peter Obi', 'Atiku Abubaka', 'Kwankwanso'],\n",
    " 'Party' : ['APC', 'Labour', 'PDP', 'NNPP'],\n",
    " 'Vote count' : [8000000, 6000000, 7000000, 2000000],\n",
    "}"
   ]
  },
  {
   "cell_type": "code",
   "execution_count": 24,
   "id": "ae367fee",
   "metadata": {},
   "outputs": [],
   "source": [
    "Nigeria_election_result = pd.DataFrame(Nigeria_election_result)"
   ]
  },
  {
   "cell_type": "code",
   "execution_count": 22,
   "id": "3e509595",
   "metadata": {},
   "outputs": [
    {
     "data": {
      "text/html": [
       "<div>\n",
       "<style scoped>\n",
       "    .dataframe tbody tr th:only-of-type {\n",
       "        vertical-align: middle;\n",
       "    }\n",
       "\n",
       "    .dataframe tbody tr th {\n",
       "        vertical-align: top;\n",
       "    }\n",
       "\n",
       "    .dataframe thead th {\n",
       "        text-align: right;\n",
       "    }\n",
       "</style>\n",
       "<table border=\"1\" class=\"dataframe\">\n",
       "  <thead>\n",
       "    <tr style=\"text-align: right;\">\n",
       "      <th></th>\n",
       "      <th>Name</th>\n",
       "      <th>Party</th>\n",
       "      <th>Vote count</th>\n",
       "    </tr>\n",
       "  </thead>\n",
       "  <tbody>\n",
       "    <tr>\n",
       "      <th>0</th>\n",
       "      <td>Bola Amed Tinubu</td>\n",
       "      <td>APC</td>\n",
       "      <td>8000000</td>\n",
       "    </tr>\n",
       "    <tr>\n",
       "      <th>1</th>\n",
       "      <td>Peter Obi</td>\n",
       "      <td>Labour</td>\n",
       "      <td>6000000</td>\n",
       "    </tr>\n",
       "    <tr>\n",
       "      <th>2</th>\n",
       "      <td>Atiku Abubaka</td>\n",
       "      <td>PDP</td>\n",
       "      <td>7000000</td>\n",
       "    </tr>\n",
       "    <tr>\n",
       "      <th>3</th>\n",
       "      <td>Kwankwanso</td>\n",
       "      <td>NNPP</td>\n",
       "      <td>2000000</td>\n",
       "    </tr>\n",
       "  </tbody>\n",
       "</table>\n",
       "</div>"
      ],
      "text/plain": [
       "               Name   Party  Vote count\n",
       "0  Bola Amed Tinubu     APC     8000000\n",
       "1         Peter Obi  Labour     6000000\n",
       "2     Atiku Abubaka     PDP     7000000\n",
       "3        Kwankwanso    NNPP     2000000"
      ]
     },
     "execution_count": 22,
     "metadata": {},
     "output_type": "execute_result"
    }
   ],
   "source": [
    "Nigeria_election_result\n"
   ]
  },
  {
   "cell_type": "code",
   "execution_count": null,
   "id": "fe9e7589",
   "metadata": {},
   "outputs": [],
   "source": []
  },
  {
   "cell_type": "markdown",
   "id": "6db3a9be",
   "metadata": {},
   "source": [
    "# Checking Pandas Version\n",
    "The version string is stored under version attribute.\n"
   ]
  },
  {
   "cell_type": "code",
   "execution_count": 14,
   "id": "3a5a3189",
   "metadata": {},
   "outputs": [
    {
     "name": "stdout",
     "output_type": "stream",
     "text": [
      "1.5.3\n"
     ]
    }
   ],
   "source": [
    "import pandas as pd\n",
    "print(pd.__version__)"
   ]
  },
  {
   "cell_type": "code",
   "execution_count": null,
   "id": "30418516",
   "metadata": {},
   "outputs": [],
   "source": []
  },
  {
   "cell_type": "markdown",
   "id": "594f9ad1",
   "metadata": {},
   "source": [
    "# Pandas Series and Index"
   ]
  },
  {
   "cell_type": "code",
   "execution_count": 25,
   "id": "e880ed91",
   "metadata": {},
   "outputs": [
    {
     "data": {
      "text/plain": [
       "x    1\n",
       "y    7\n",
       "z    2\n",
       "dtype: int64"
      ]
     },
     "execution_count": 25,
     "metadata": {},
     "output_type": "execute_result"
    }
   ],
   "source": [
    "import pandas as pd\n",
    "a = [1, 7, 2]\n",
    "myvar = pd.Series(a, index = [\"x\", \"y\", \"z\"])\n",
    "myvar\n"
   ]
  },
  {
   "cell_type": "code",
   "execution_count": 26,
   "id": "8d436198",
   "metadata": {},
   "outputs": [
    {
     "name": "stdout",
     "output_type": "stream",
     "text": [
      "day1    420\n",
      "day2    380\n",
      "day3    390\n",
      "dtype: int64\n"
     ]
    }
   ],
   "source": [
    "import pandas as pd\n",
    "calories = {\"day1\": 420, \"day2\": 380, \"day3\": 390}\n",
    "myvar = pd.Series(calories)\n",
    "print(myvar)"
   ]
  },
  {
   "cell_type": "markdown",
   "id": "95ca676f",
   "metadata": {},
   "source": [
    "# Example\n",
    "Create a DataFrame from two Series:"
   ]
  },
  {
   "cell_type": "code",
   "execution_count": 27,
   "id": "64997353",
   "metadata": {},
   "outputs": [
    {
     "data": {
      "text/html": [
       "<div>\n",
       "<style scoped>\n",
       "    .dataframe tbody tr th:only-of-type {\n",
       "        vertical-align: middle;\n",
       "    }\n",
       "\n",
       "    .dataframe tbody tr th {\n",
       "        vertical-align: top;\n",
       "    }\n",
       "\n",
       "    .dataframe thead th {\n",
       "        text-align: right;\n",
       "    }\n",
       "</style>\n",
       "<table border=\"1\" class=\"dataframe\">\n",
       "  <thead>\n",
       "    <tr style=\"text-align: right;\">\n",
       "      <th></th>\n",
       "      <th>calories</th>\n",
       "      <th>duration</th>\n",
       "    </tr>\n",
       "  </thead>\n",
       "  <tbody>\n",
       "    <tr>\n",
       "      <th>0</th>\n",
       "      <td>420</td>\n",
       "      <td>50</td>\n",
       "    </tr>\n",
       "    <tr>\n",
       "      <th>1</th>\n",
       "      <td>380</td>\n",
       "      <td>40</td>\n",
       "    </tr>\n",
       "    <tr>\n",
       "      <th>2</th>\n",
       "      <td>390</td>\n",
       "      <td>45</td>\n",
       "    </tr>\n",
       "  </tbody>\n",
       "</table>\n",
       "</div>"
      ],
      "text/plain": [
       "   calories  duration\n",
       "0       420        50\n",
       "1       380        40\n",
       "2       390        45"
      ]
     },
     "execution_count": 27,
     "metadata": {},
     "output_type": "execute_result"
    }
   ],
   "source": [
    "import pandas as pd\n",
    "data = {\n",
    " \"calories\": [420, 380, 390],\n",
    " \"duration\": [50, 40, 45]\n",
    "}\n",
    "myvar = pd.DataFrame(data)\n",
    "myvar"
   ]
  },
  {
   "cell_type": "code",
   "execution_count": null,
   "id": "6ca25bbd",
   "metadata": {},
   "outputs": [],
   "source": []
  },
  {
   "cell_type": "markdown",
   "id": "c9da4c89",
   "metadata": {},
   "source": [
    "# Load Files Into a DataFrame\n",
    "If your data sets are stored in a file, Pandas can load them into a DataFrame.\n",
    "Example Load a comma separated file (CSV file) into a DataFrame:"
   ]
  },
  {
   "cell_type": "code",
   "execution_count": 32,
   "id": "cb9cc476",
   "metadata": {},
   "outputs": [
    {
     "data": {
      "text/html": [
       "<div>\n",
       "<style scoped>\n",
       "    .dataframe tbody tr th:only-of-type {\n",
       "        vertical-align: middle;\n",
       "    }\n",
       "\n",
       "    .dataframe tbody tr th {\n",
       "        vertical-align: top;\n",
       "    }\n",
       "\n",
       "    .dataframe thead th {\n",
       "        text-align: right;\n",
       "    }\n",
       "</style>\n",
       "<table border=\"1\" class=\"dataframe\">\n",
       "  <thead>\n",
       "    <tr style=\"text-align: right;\">\n",
       "      <th></th>\n",
       "      <th>Manufacturer</th>\n",
       "      <th>Model</th>\n",
       "      <th>Sales_in_thousands</th>\n",
       "      <th>__year_resale_value</th>\n",
       "      <th>Vehicle_type</th>\n",
       "      <th>Price_in_thousands</th>\n",
       "      <th>Engine_size</th>\n",
       "      <th>Horsepower</th>\n",
       "      <th>Wheelbase</th>\n",
       "      <th>Width</th>\n",
       "      <th>Length</th>\n",
       "      <th>Curb_weight</th>\n",
       "      <th>Fuel_capacity</th>\n",
       "      <th>Fuel_efficiency</th>\n",
       "      <th>Latest_Launch</th>\n",
       "      <th>Power_perf_factor</th>\n",
       "    </tr>\n",
       "  </thead>\n",
       "  <tbody>\n",
       "    <tr>\n",
       "      <th>0</th>\n",
       "      <td>Acura</td>\n",
       "      <td>Integra</td>\n",
       "      <td>16.919</td>\n",
       "      <td>16.360</td>\n",
       "      <td>Passenger</td>\n",
       "      <td>21.50</td>\n",
       "      <td>1.8</td>\n",
       "      <td>140.0</td>\n",
       "      <td>101.2</td>\n",
       "      <td>67.3</td>\n",
       "      <td>172.4</td>\n",
       "      <td>2.639</td>\n",
       "      <td>13.2</td>\n",
       "      <td>28.0</td>\n",
       "      <td>2/2/2012</td>\n",
       "      <td>58.280150</td>\n",
       "    </tr>\n",
       "    <tr>\n",
       "      <th>1</th>\n",
       "      <td>Acura</td>\n",
       "      <td>TL</td>\n",
       "      <td>39.384</td>\n",
       "      <td>19.875</td>\n",
       "      <td>Passenger</td>\n",
       "      <td>28.40</td>\n",
       "      <td>3.2</td>\n",
       "      <td>225.0</td>\n",
       "      <td>108.1</td>\n",
       "      <td>70.3</td>\n",
       "      <td>192.9</td>\n",
       "      <td>3.517</td>\n",
       "      <td>17.2</td>\n",
       "      <td>25.0</td>\n",
       "      <td>6/3/2011</td>\n",
       "      <td>91.370778</td>\n",
       "    </tr>\n",
       "    <tr>\n",
       "      <th>2</th>\n",
       "      <td>Acura</td>\n",
       "      <td>CL</td>\n",
       "      <td>14.114</td>\n",
       "      <td>18.225</td>\n",
       "      <td>Passenger</td>\n",
       "      <td>NaN</td>\n",
       "      <td>3.2</td>\n",
       "      <td>225.0</td>\n",
       "      <td>106.9</td>\n",
       "      <td>70.6</td>\n",
       "      <td>192.0</td>\n",
       "      <td>3.470</td>\n",
       "      <td>17.2</td>\n",
       "      <td>26.0</td>\n",
       "      <td>1/4/2012</td>\n",
       "      <td>NaN</td>\n",
       "    </tr>\n",
       "    <tr>\n",
       "      <th>3</th>\n",
       "      <td>Acura</td>\n",
       "      <td>RL</td>\n",
       "      <td>8.588</td>\n",
       "      <td>29.725</td>\n",
       "      <td>Passenger</td>\n",
       "      <td>42.00</td>\n",
       "      <td>3.5</td>\n",
       "      <td>210.0</td>\n",
       "      <td>114.6</td>\n",
       "      <td>71.4</td>\n",
       "      <td>196.6</td>\n",
       "      <td>3.850</td>\n",
       "      <td>18.0</td>\n",
       "      <td>22.0</td>\n",
       "      <td>3/10/2011</td>\n",
       "      <td>91.389779</td>\n",
       "    </tr>\n",
       "    <tr>\n",
       "      <th>4</th>\n",
       "      <td>Audi</td>\n",
       "      <td>A4</td>\n",
       "      <td>20.397</td>\n",
       "      <td>22.255</td>\n",
       "      <td>Passenger</td>\n",
       "      <td>23.99</td>\n",
       "      <td>1.8</td>\n",
       "      <td>150.0</td>\n",
       "      <td>102.6</td>\n",
       "      <td>68.2</td>\n",
       "      <td>178.0</td>\n",
       "      <td>2.998</td>\n",
       "      <td>16.4</td>\n",
       "      <td>27.0</td>\n",
       "      <td>10/8/2011</td>\n",
       "      <td>62.777639</td>\n",
       "    </tr>\n",
       "  </tbody>\n",
       "</table>\n",
       "</div>"
      ],
      "text/plain": [
       "  Manufacturer    Model  Sales_in_thousands  __year_resale_value Vehicle_type  \\\n",
       "0        Acura  Integra              16.919               16.360    Passenger   \n",
       "1        Acura       TL              39.384               19.875    Passenger   \n",
       "2        Acura       CL              14.114               18.225    Passenger   \n",
       "3        Acura       RL               8.588               29.725    Passenger   \n",
       "4         Audi       A4              20.397               22.255    Passenger   \n",
       "\n",
       "   Price_in_thousands  Engine_size  Horsepower  Wheelbase  Width  Length  \\\n",
       "0               21.50          1.8       140.0      101.2   67.3   172.4   \n",
       "1               28.40          3.2       225.0      108.1   70.3   192.9   \n",
       "2                 NaN          3.2       225.0      106.9   70.6   192.0   \n",
       "3               42.00          3.5       210.0      114.6   71.4   196.6   \n",
       "4               23.99          1.8       150.0      102.6   68.2   178.0   \n",
       "\n",
       "   Curb_weight  Fuel_capacity  Fuel_efficiency Latest_Launch  \\\n",
       "0        2.639           13.2             28.0      2/2/2012   \n",
       "1        3.517           17.2             25.0      6/3/2011   \n",
       "2        3.470           17.2             26.0      1/4/2012   \n",
       "3        3.850           18.0             22.0     3/10/2011   \n",
       "4        2.998           16.4             27.0     10/8/2011   \n",
       "\n",
       "   Power_perf_factor  \n",
       "0          58.280150  \n",
       "1          91.370778  \n",
       "2                NaN  \n",
       "3          91.389779  \n",
       "4          62.777639  "
      ]
     },
     "execution_count": 32,
     "metadata": {},
     "output_type": "execute_result"
    }
   ],
   "source": [
    "import pandas as pd\n",
    "df = pd.read_csv('Car_sales.csv')\n",
    "df.head()"
   ]
  },
  {
   "cell_type": "code",
   "execution_count": 36,
   "id": "84dd948f",
   "metadata": {},
   "outputs": [
    {
     "data": {
      "text/plain": [
       "85.5"
      ]
     },
     "execution_count": 36,
     "metadata": {},
     "output_type": "execute_result"
    }
   ],
   "source": [
    "df[\"Price_in_thousands\"].max()\n"
   ]
  },
  {
   "cell_type": "code",
   "execution_count": 37,
   "id": "ff7c1ed3",
   "metadata": {},
   "outputs": [
    {
     "data": {
      "text/plain": [
       "540.561"
      ]
     },
     "execution_count": 37,
     "metadata": {},
     "output_type": "execute_result"
    }
   ],
   "source": [
    "df['Sales_in_thousands'].max()"
   ]
  },
  {
   "cell_type": "code",
   "execution_count": 38,
   "id": "b7f584da",
   "metadata": {},
   "outputs": [
    {
     "data": {
      "text/plain": [
       "0.11"
      ]
     },
     "execution_count": 38,
     "metadata": {},
     "output_type": "execute_result"
    }
   ],
   "source": [
    "df['Sales_in_thousands'].min()"
   ]
  },
  {
   "cell_type": "code",
   "execution_count": 39,
   "id": "d98a33ce",
   "metadata": {},
   "outputs": [
    {
     "name": "stdout",
     "output_type": "stream",
     "text": [
      "<class 'pandas.core.frame.DataFrame'>\n",
      "RangeIndex: 157 entries, 0 to 156\n",
      "Data columns (total 16 columns):\n",
      " #   Column               Non-Null Count  Dtype  \n",
      "---  ------               --------------  -----  \n",
      " 0   Manufacturer         157 non-null    object \n",
      " 1   Model                157 non-null    object \n",
      " 2   Sales_in_thousands   157 non-null    float64\n",
      " 3   __year_resale_value  121 non-null    float64\n",
      " 4   Vehicle_type         157 non-null    object \n",
      " 5   Price_in_thousands   155 non-null    float64\n",
      " 6   Engine_size          156 non-null    float64\n",
      " 7   Horsepower           156 non-null    float64\n",
      " 8   Wheelbase            156 non-null    float64\n",
      " 9   Width                156 non-null    float64\n",
      " 10  Length               156 non-null    float64\n",
      " 11  Curb_weight          155 non-null    float64\n",
      " 12  Fuel_capacity        156 non-null    float64\n",
      " 13  Fuel_efficiency      154 non-null    float64\n",
      " 14  Latest_Launch        157 non-null    object \n",
      " 15  Power_perf_factor    155 non-null    float64\n",
      "dtypes: float64(12), object(4)\n",
      "memory usage: 19.8+ KB\n"
     ]
    }
   ],
   "source": [
    "df.info()"
   ]
  },
  {
   "cell_type": "code",
   "execution_count": 41,
   "id": "a3740491",
   "metadata": {},
   "outputs": [
    {
     "data": {
      "text/plain": [
       "Manufacturer            0\n",
       "Model                   0\n",
       "Sales_in_thousands      0\n",
       "__year_resale_value    36\n",
       "Vehicle_type            0\n",
       "Price_in_thousands      2\n",
       "Engine_size             1\n",
       "Horsepower              1\n",
       "Wheelbase               1\n",
       "Width                   1\n",
       "Length                  1\n",
       "Curb_weight             2\n",
       "Fuel_capacity           1\n",
       "Fuel_efficiency         3\n",
       "Latest_Launch           0\n",
       "Power_perf_factor       2\n",
       "dtype: int64"
      ]
     },
     "execution_count": 41,
     "metadata": {},
     "output_type": "execute_result"
    }
   ],
   "source": [
    "df.isnull().sum()"
   ]
  },
  {
   "cell_type": "code",
   "execution_count": 42,
   "id": "b8a3dcf9",
   "metadata": {},
   "outputs": [
    {
     "data": {
      "text/plain": [
       "Index(['Manufacturer', 'Model', 'Sales_in_thousands', '__year_resale_value',\n",
       "       'Vehicle_type', 'Price_in_thousands', 'Engine_size', 'Horsepower',\n",
       "       'Wheelbase', 'Width', 'Length', 'Curb_weight', 'Fuel_capacity',\n",
       "       'Fuel_efficiency', 'Latest_Launch', 'Power_perf_factor'],\n",
       "      dtype='object')"
      ]
     },
     "execution_count": 42,
     "metadata": {},
     "output_type": "execute_result"
    }
   ],
   "source": [
    "df.columns"
   ]
  },
  {
   "cell_type": "code",
   "execution_count": 43,
   "id": "af41fdea",
   "metadata": {},
   "outputs": [
    {
     "data": {
      "text/plain": [
       "array(['Acura', 'Audi', 'BMW', 'Buick', 'Cadillac', 'Chevrolet',\n",
       "       'Chrysler', 'Dodge', 'Ford', 'Honda', 'Hyundai', 'Infiniti',\n",
       "       'Jaguar', 'Jeep', 'Lexus', 'Lincoln', 'Mitsubishi', 'Mercury',\n",
       "       'Mercedes-B', 'Nissan', 'Oldsmobile', 'Plymouth', 'Pontiac',\n",
       "       'Porsche', 'Saab', 'Saturn', 'Subaru', 'Toyota', 'Volkswagen',\n",
       "       'Volvo'], dtype=object)"
      ]
     },
     "execution_count": 43,
     "metadata": {},
     "output_type": "execute_result"
    }
   ],
   "source": [
    "df['Manufacturer'].unique()"
   ]
  },
  {
   "cell_type": "code",
   "execution_count": 44,
   "id": "11f467ed",
   "metadata": {},
   "outputs": [
    {
     "data": {
      "text/plain": [
       "array(['Passenger', 'Car'], dtype=object)"
      ]
     },
     "execution_count": 44,
     "metadata": {},
     "output_type": "execute_result"
    }
   ],
   "source": [
    "df['Vehicle_type'].unique()"
   ]
  },
  {
   "cell_type": "code",
   "execution_count": 45,
   "id": "156d18e9",
   "metadata": {},
   "outputs": [
    {
     "data": {
      "text/plain": [
       "Dodge         11\n",
       "Ford          11\n",
       "Toyota         9\n",
       "Chevrolet      9\n",
       "Mercedes-B     9\n",
       "Mitsubishi     7\n",
       "Nissan         7\n",
       "Chrysler       7\n",
       "Volvo          6\n",
       "Oldsmobile     6\n",
       "Lexus          6\n",
       "Mercury        6\n",
       "Pontiac        6\n",
       "Volkswagen     6\n",
       "Saturn         5\n",
       "Cadillac       5\n",
       "Honda          5\n",
       "Plymouth       4\n",
       "Acura          4\n",
       "Buick          4\n",
       "Audi           3\n",
       "Jeep           3\n",
       "Porsche        3\n",
       "Hyundai        3\n",
       "BMW            3\n",
       "Lincoln        3\n",
       "Saab           2\n",
       "Subaru         2\n",
       "Jaguar         1\n",
       "Infiniti       1\n",
       "Name: Manufacturer, dtype: int64"
      ]
     },
     "execution_count": 45,
     "metadata": {},
     "output_type": "execute_result"
    }
   ],
   "source": [
    "df['Manufacturer'].value_counts()"
   ]
  },
  {
   "cell_type": "code",
   "execution_count": 46,
   "id": "5f321d57",
   "metadata": {},
   "outputs": [
    {
     "data": {
      "text/plain": [
       "Passenger    116\n",
       "Car           41\n",
       "Name: Vehicle_type, dtype: int64"
      ]
     },
     "execution_count": 46,
     "metadata": {},
     "output_type": "execute_result"
    }
   ],
   "source": [
    "df['Vehicle_type'].value_counts()"
   ]
  },
  {
   "cell_type": "code",
   "execution_count": 47,
   "id": "9eefce4b",
   "metadata": {},
   "outputs": [
    {
     "data": {
      "text/plain": [
       "8.0"
      ]
     },
     "execution_count": 47,
     "metadata": {},
     "output_type": "execute_result"
    }
   ],
   "source": [
    "df['Engine_size'].max()"
   ]
  },
  {
   "cell_type": "code",
   "execution_count": 48,
   "id": "1822cc47",
   "metadata": {},
   "outputs": [
    {
     "data": {
      "text/plain": [
       "1.0"
      ]
     },
     "execution_count": 48,
     "metadata": {},
     "output_type": "execute_result"
    }
   ],
   "source": [
    "df['Engine_size'].min()"
   ]
  },
  {
   "cell_type": "code",
   "execution_count": 51,
   "id": "e6f32ad4",
   "metadata": {},
   "outputs": [
    {
     "data": {
      "text/html": [
       "<div>\n",
       "<style scoped>\n",
       "    .dataframe tbody tr th:only-of-type {\n",
       "        vertical-align: middle;\n",
       "    }\n",
       "\n",
       "    .dataframe tbody tr th {\n",
       "        vertical-align: top;\n",
       "    }\n",
       "\n",
       "    .dataframe thead th {\n",
       "        text-align: right;\n",
       "    }\n",
       "</style>\n",
       "<table border=\"1\" class=\"dataframe\">\n",
       "  <thead>\n",
       "    <tr style=\"text-align: right;\">\n",
       "      <th></th>\n",
       "      <th>Manufacturer</th>\n",
       "      <th>Model</th>\n",
       "      <th>Sales_in_thousands</th>\n",
       "      <th>__year_resale_value</th>\n",
       "      <th>Vehicle_type</th>\n",
       "      <th>Price_in_thousands</th>\n",
       "      <th>Engine_size</th>\n",
       "      <th>Horsepower</th>\n",
       "      <th>Wheelbase</th>\n",
       "      <th>Width</th>\n",
       "      <th>Length</th>\n",
       "      <th>Curb_weight</th>\n",
       "      <th>Fuel_capacity</th>\n",
       "      <th>Fuel_efficiency</th>\n",
       "      <th>Latest_Launch</th>\n",
       "      <th>Power_perf_factor</th>\n",
       "    </tr>\n",
       "  </thead>\n",
       "  <tbody>\n",
       "    <tr>\n",
       "      <th>52</th>\n",
       "      <td>Ford</td>\n",
       "      <td>Explorer</td>\n",
       "      <td>276.747</td>\n",
       "      <td>16.640</td>\n",
       "      <td>Car</td>\n",
       "      <td>31.930</td>\n",
       "      <td>4.0</td>\n",
       "      <td>210.0</td>\n",
       "      <td>111.6</td>\n",
       "      <td>70.2</td>\n",
       "      <td>190.7</td>\n",
       "      <td>3.876</td>\n",
       "      <td>21.0</td>\n",
       "      <td>19.0</td>\n",
       "      <td>4/25/2012</td>\n",
       "      <td>87.635496</td>\n",
       "    </tr>\n",
       "    <tr>\n",
       "      <th>68</th>\n",
       "      <td>Jeep</td>\n",
       "      <td>Cherokee</td>\n",
       "      <td>80.556</td>\n",
       "      <td>13.775</td>\n",
       "      <td>Car</td>\n",
       "      <td>21.620</td>\n",
       "      <td>4.0</td>\n",
       "      <td>190.0</td>\n",
       "      <td>101.4</td>\n",
       "      <td>69.4</td>\n",
       "      <td>167.5</td>\n",
       "      <td>3.194</td>\n",
       "      <td>20.0</td>\n",
       "      <td>20.0</td>\n",
       "      <td>10/5/2012</td>\n",
       "      <td>76.584440</td>\n",
       "    </tr>\n",
       "    <tr>\n",
       "      <th>69</th>\n",
       "      <td>Jeep</td>\n",
       "      <td>Grand Cherokee</td>\n",
       "      <td>157.040</td>\n",
       "      <td>18.810</td>\n",
       "      <td>Car</td>\n",
       "      <td>26.895</td>\n",
       "      <td>4.0</td>\n",
       "      <td>195.0</td>\n",
       "      <td>105.9</td>\n",
       "      <td>72.3</td>\n",
       "      <td>181.5</td>\n",
       "      <td>3.880</td>\n",
       "      <td>20.5</td>\n",
       "      <td>19.0</td>\n",
       "      <td>12/10/2011</td>\n",
       "      <td>80.387779</td>\n",
       "    </tr>\n",
       "    <tr>\n",
       "      <th>72</th>\n",
       "      <td>Lexus</td>\n",
       "      <td>GS400</td>\n",
       "      <td>3.334</td>\n",
       "      <td>NaN</td>\n",
       "      <td>Passenger</td>\n",
       "      <td>46.305</td>\n",
       "      <td>4.0</td>\n",
       "      <td>300.0</td>\n",
       "      <td>110.2</td>\n",
       "      <td>70.9</td>\n",
       "      <td>189.2</td>\n",
       "      <td>3.693</td>\n",
       "      <td>19.8</td>\n",
       "      <td>21.0</td>\n",
       "      <td>11/28/2012</td>\n",
       "      <td>125.013357</td>\n",
       "    </tr>\n",
       "    <tr>\n",
       "      <th>73</th>\n",
       "      <td>Lexus</td>\n",
       "      <td>LS400</td>\n",
       "      <td>6.375</td>\n",
       "      <td>40.375</td>\n",
       "      <td>Passenger</td>\n",
       "      <td>54.005</td>\n",
       "      <td>4.0</td>\n",
       "      <td>290.0</td>\n",
       "      <td>112.2</td>\n",
       "      <td>72.0</td>\n",
       "      <td>196.7</td>\n",
       "      <td>3.890</td>\n",
       "      <td>22.5</td>\n",
       "      <td>22.0</td>\n",
       "      <td>3/29/2012</td>\n",
       "      <td>124.446716</td>\n",
       "    </tr>\n",
       "    <tr>\n",
       "      <th>90</th>\n",
       "      <td>Mercury</td>\n",
       "      <td>Mountaineer</td>\n",
       "      <td>27.609</td>\n",
       "      <td>20.430</td>\n",
       "      <td>Car</td>\n",
       "      <td>27.560</td>\n",
       "      <td>4.0</td>\n",
       "      <td>210.0</td>\n",
       "      <td>111.6</td>\n",
       "      <td>70.2</td>\n",
       "      <td>190.1</td>\n",
       "      <td>3.876</td>\n",
       "      <td>21.0</td>\n",
       "      <td>18.0</td>\n",
       "      <td>2/13/2008</td>\n",
       "      <td>85.949744</td>\n",
       "    </tr>\n",
       "    <tr>\n",
       "      <th>111</th>\n",
       "      <td>Oldsmobile</td>\n",
       "      <td>Aurora</td>\n",
       "      <td>14.690</td>\n",
       "      <td>19.890</td>\n",
       "      <td>Passenger</td>\n",
       "      <td>36.229</td>\n",
       "      <td>4.0</td>\n",
       "      <td>250.0</td>\n",
       "      <td>113.8</td>\n",
       "      <td>74.4</td>\n",
       "      <td>205.4</td>\n",
       "      <td>3.967</td>\n",
       "      <td>18.5</td>\n",
       "      <td>22.0</td>\n",
       "      <td>2/18/2011</td>\n",
       "      <td>103.441693</td>\n",
       "    </tr>\n",
       "  </tbody>\n",
       "</table>\n",
       "</div>"
      ],
      "text/plain": [
       "    Manufacturer           Model  Sales_in_thousands  __year_resale_value  \\\n",
       "52          Ford        Explorer             276.747               16.640   \n",
       "68          Jeep        Cherokee              80.556               13.775   \n",
       "69          Jeep  Grand Cherokee             157.040               18.810   \n",
       "72         Lexus           GS400               3.334                  NaN   \n",
       "73         Lexus           LS400               6.375               40.375   \n",
       "90       Mercury     Mountaineer              27.609               20.430   \n",
       "111   Oldsmobile          Aurora              14.690               19.890   \n",
       "\n",
       "    Vehicle_type  Price_in_thousands  Engine_size  Horsepower  Wheelbase  \\\n",
       "52           Car              31.930          4.0       210.0      111.6   \n",
       "68           Car              21.620          4.0       190.0      101.4   \n",
       "69           Car              26.895          4.0       195.0      105.9   \n",
       "72     Passenger              46.305          4.0       300.0      110.2   \n",
       "73     Passenger              54.005          4.0       290.0      112.2   \n",
       "90           Car              27.560          4.0       210.0      111.6   \n",
       "111    Passenger              36.229          4.0       250.0      113.8   \n",
       "\n",
       "     Width  Length  Curb_weight  Fuel_capacity  Fuel_efficiency Latest_Launch  \\\n",
       "52    70.2   190.7        3.876           21.0             19.0     4/25/2012   \n",
       "68    69.4   167.5        3.194           20.0             20.0     10/5/2012   \n",
       "69    72.3   181.5        3.880           20.5             19.0    12/10/2011   \n",
       "72    70.9   189.2        3.693           19.8             21.0    11/28/2012   \n",
       "73    72.0   196.7        3.890           22.5             22.0     3/29/2012   \n",
       "90    70.2   190.1        3.876           21.0             18.0     2/13/2008   \n",
       "111   74.4   205.4        3.967           18.5             22.0     2/18/2011   \n",
       "\n",
       "     Power_perf_factor  \n",
       "52           87.635496  \n",
       "68           76.584440  \n",
       "69           80.387779  \n",
       "72          125.013357  \n",
       "73          124.446716  \n",
       "90           85.949744  \n",
       "111         103.441693  "
      ]
     },
     "execution_count": 51,
     "metadata": {},
     "output_type": "execute_result"
    }
   ],
   "source": [
    "df[df['Engine_size']==4]"
   ]
  },
  {
   "cell_type": "code",
   "execution_count": 55,
   "id": "fe78e1e2",
   "metadata": {},
   "outputs": [
    {
     "data": {
      "text/html": [
       "<div>\n",
       "<style scoped>\n",
       "    .dataframe tbody tr th:only-of-type {\n",
       "        vertical-align: middle;\n",
       "    }\n",
       "\n",
       "    .dataframe tbody tr th {\n",
       "        vertical-align: top;\n",
       "    }\n",
       "\n",
       "    .dataframe thead th {\n",
       "        text-align: right;\n",
       "    }\n",
       "</style>\n",
       "<table border=\"1\" class=\"dataframe\">\n",
       "  <thead>\n",
       "    <tr style=\"text-align: right;\">\n",
       "      <th></th>\n",
       "      <th>Manufacturer</th>\n",
       "      <th>Model</th>\n",
       "      <th>Sales_in_thousands</th>\n",
       "      <th>__year_resale_value</th>\n",
       "      <th>Vehicle_type</th>\n",
       "      <th>Price_in_thousands</th>\n",
       "      <th>Engine_size</th>\n",
       "      <th>Horsepower</th>\n",
       "      <th>Wheelbase</th>\n",
       "      <th>Width</th>\n",
       "      <th>Length</th>\n",
       "      <th>Curb_weight</th>\n",
       "      <th>Fuel_capacity</th>\n",
       "      <th>Fuel_efficiency</th>\n",
       "      <th>Latest_Launch</th>\n",
       "      <th>Power_perf_factor</th>\n",
       "    </tr>\n",
       "  </thead>\n",
       "  <tbody>\n",
       "    <tr>\n",
       "      <th>0</th>\n",
       "      <td>Acura</td>\n",
       "      <td>Integra</td>\n",
       "      <td>16.919</td>\n",
       "      <td>16.360</td>\n",
       "      <td>Passenger</td>\n",
       "      <td>21.5</td>\n",
       "      <td>1.8</td>\n",
       "      <td>140.0</td>\n",
       "      <td>101.2</td>\n",
       "      <td>67.3</td>\n",
       "      <td>172.4</td>\n",
       "      <td>2.639</td>\n",
       "      <td>13.2</td>\n",
       "      <td>28.0</td>\n",
       "      <td>2/2/2012</td>\n",
       "      <td>58.280150</td>\n",
       "    </tr>\n",
       "    <tr>\n",
       "      <th>1</th>\n",
       "      <td>Acura</td>\n",
       "      <td>TL</td>\n",
       "      <td>39.384</td>\n",
       "      <td>19.875</td>\n",
       "      <td>Passenger</td>\n",
       "      <td>28.4</td>\n",
       "      <td>3.2</td>\n",
       "      <td>225.0</td>\n",
       "      <td>108.1</td>\n",
       "      <td>70.3</td>\n",
       "      <td>192.9</td>\n",
       "      <td>3.517</td>\n",
       "      <td>17.2</td>\n",
       "      <td>25.0</td>\n",
       "      <td>6/3/2011</td>\n",
       "      <td>91.370778</td>\n",
       "    </tr>\n",
       "    <tr>\n",
       "      <th>2</th>\n",
       "      <td>Acura</td>\n",
       "      <td>CL</td>\n",
       "      <td>14.114</td>\n",
       "      <td>18.225</td>\n",
       "      <td>Passenger</td>\n",
       "      <td>NaN</td>\n",
       "      <td>3.2</td>\n",
       "      <td>225.0</td>\n",
       "      <td>106.9</td>\n",
       "      <td>70.6</td>\n",
       "      <td>192.0</td>\n",
       "      <td>3.470</td>\n",
       "      <td>17.2</td>\n",
       "      <td>26.0</td>\n",
       "      <td>1/4/2012</td>\n",
       "      <td>NaN</td>\n",
       "    </tr>\n",
       "    <tr>\n",
       "      <th>3</th>\n",
       "      <td>Acura</td>\n",
       "      <td>RL</td>\n",
       "      <td>8.588</td>\n",
       "      <td>29.725</td>\n",
       "      <td>Passenger</td>\n",
       "      <td>42.0</td>\n",
       "      <td>3.5</td>\n",
       "      <td>210.0</td>\n",
       "      <td>114.6</td>\n",
       "      <td>71.4</td>\n",
       "      <td>196.6</td>\n",
       "      <td>3.850</td>\n",
       "      <td>18.0</td>\n",
       "      <td>22.0</td>\n",
       "      <td>3/10/2011</td>\n",
       "      <td>91.389779</td>\n",
       "    </tr>\n",
       "  </tbody>\n",
       "</table>\n",
       "</div>"
      ],
      "text/plain": [
       "  Manufacturer    Model  Sales_in_thousands  __year_resale_value Vehicle_type  \\\n",
       "0        Acura  Integra              16.919               16.360    Passenger   \n",
       "1        Acura       TL              39.384               19.875    Passenger   \n",
       "2        Acura       CL              14.114               18.225    Passenger   \n",
       "3        Acura       RL               8.588               29.725    Passenger   \n",
       "\n",
       "   Price_in_thousands  Engine_size  Horsepower  Wheelbase  Width  Length  \\\n",
       "0                21.5          1.8       140.0      101.2   67.3   172.4   \n",
       "1                28.4          3.2       225.0      108.1   70.3   192.9   \n",
       "2                 NaN          3.2       225.0      106.9   70.6   192.0   \n",
       "3                42.0          3.5       210.0      114.6   71.4   196.6   \n",
       "\n",
       "   Curb_weight  Fuel_capacity  Fuel_efficiency Latest_Launch  \\\n",
       "0        2.639           13.2             28.0      2/2/2012   \n",
       "1        3.517           17.2             25.0      6/3/2011   \n",
       "2        3.470           17.2             26.0      1/4/2012   \n",
       "3        3.850           18.0             22.0     3/10/2011   \n",
       "\n",
       "   Power_perf_factor  \n",
       "0          58.280150  \n",
       "1          91.370778  \n",
       "2                NaN  \n",
       "3          91.389779  "
      ]
     },
     "execution_count": 55,
     "metadata": {},
     "output_type": "execute_result"
    }
   ],
   "source": [
    "df[df['Manufacturer']== 'Acura']"
   ]
  },
  {
   "cell_type": "code",
   "execution_count": null,
   "id": "847c39d6",
   "metadata": {},
   "outputs": [],
   "source": []
  },
  {
   "cell_type": "code",
   "execution_count": null,
   "id": "b37a3510",
   "metadata": {},
   "outputs": [],
   "source": []
  },
  {
   "cell_type": "code",
   "execution_count": null,
   "id": "616f88f4",
   "metadata": {},
   "outputs": [],
   "source": []
  },
  {
   "cell_type": "code",
   "execution_count": null,
   "id": "366fbb47",
   "metadata": {},
   "outputs": [],
   "source": []
  },
  {
   "cell_type": "code",
   "execution_count": null,
   "id": "b0b7edcc",
   "metadata": {},
   "outputs": [],
   "source": []
  },
  {
   "cell_type": "code",
   "execution_count": null,
   "id": "043681a5",
   "metadata": {},
   "outputs": [],
   "source": []
  },
  {
   "cell_type": "code",
   "execution_count": null,
   "id": "935404d6",
   "metadata": {},
   "outputs": [],
   "source": []
  },
  {
   "cell_type": "code",
   "execution_count": null,
   "id": "8d504f34",
   "metadata": {},
   "outputs": [],
   "source": []
  }
 ],
 "metadata": {
  "kernelspec": {
   "display_name": "Python 3 (ipykernel)",
   "language": "python",
   "name": "python3"
  },
  "language_info": {
   "codemirror_mode": {
    "name": "ipython",
    "version": 3
   },
   "file_extension": ".py",
   "mimetype": "text/x-python",
   "name": "python",
   "nbconvert_exporter": "python",
   "pygments_lexer": "ipython3",
   "version": "3.10.9"
  }
 },
 "nbformat": 4,
 "nbformat_minor": 5
}
