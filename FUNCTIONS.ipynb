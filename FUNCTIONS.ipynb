{
 "cells": [
  {
   "cell_type": "markdown",
   "id": "9887f7cd",
   "metadata": {},
   "source": [
    "# FUNCTION IN PYTHON"
   ]
  },
  {
   "cell_type": "markdown",
   "id": "beaae711",
   "metadata": {},
   "source": [
    "In programming, a function is a reusable block of code that performs a specific task. It takes input values (called parameters or arguments), does some operations on them, and optionally returns an output value. Functions help us organize our code and make it more modular and easier to understand.\n",
    "\n",
    "Let's look at an example:"
   ]
  },
  {
   "cell_type": "code",
   "execution_count": 1,
   "id": "969d4092",
   "metadata": {},
   "outputs": [
    {
     "name": "stdout",
     "output_type": "stream",
     "text": [
      "Hello, Alice!\n",
      "Hello, Bob!\n"
     ]
    }
   ],
   "source": [
    "def greet(name):\n",
    "    print(\"Hello, \" + name + \"!\")\n",
    "\n",
    "greet(\"Alice\")\n",
    "greet(\"Bob\")"
   ]
  },
  {
   "cell_type": "markdown",
   "id": "761ecfab",
   "metadata": {},
   "source": [
    "In this example, we have a function called greet that takes a single parameter called name. The function simply prints a greeting message with the name. When we call the function with different names, it prints a customized greeting for each name."
   ]
  },
  {
   "cell_type": "markdown",
   "id": "d9eac712",
   "metadata": {},
   "source": [
    "Here's how we define a function in Python:\n",
    "\n",
    "We use the def keyword, followed by the function name and parentheses ( ).\n",
    "Inside the parentheses, we can specify one or more parameters (in this case, just name).\n",
    "The function body is indented below the function definition. It contains the code that gets executed when the function is called.\n",
    "Let's explore another example to see how functions can return values:"
   ]
  },
  {
   "cell_type": "code",
   "execution_count": 2,
   "id": "161130c4",
   "metadata": {},
   "outputs": [
    {
     "name": "stdout",
     "output_type": "stream",
     "text": [
      "25\n"
     ]
    }
   ],
   "source": [
    "def square(number):\n",
    "    result = number * number\n",
    "    return result\n",
    "\n",
    "squared_value = square(5)\n",
    "print(squared_value)"
   ]
  },
  {
   "cell_type": "markdown",
   "id": "14615e67",
   "metadata": {},
   "source": [
    "In this example, we have a function called square that takes a number as a parameter. It calculates the square of that number and returns the result using the return keyword. When we call the function and assign its return value to the variable squared_value, we can then print that value."
   ]
  },
  {
   "cell_type": "markdown",
   "id": "ddb7c29a",
   "metadata": {},
   "source": [
    "You can use functions to perform complex tasks by breaking them down into smaller, more manageable pieces. Here's an example where we combine multiple functions:"
   ]
  },
  {
   "cell_type": "code",
   "execution_count": 3,
   "id": "23a29460",
   "metadata": {},
   "outputs": [
    {
     "name": "stdout",
     "output_type": "stream",
     "text": [
      "15\n"
     ]
    }
   ],
   "source": [
    "def add(a, b):\n",
    "    return a + b\n",
    "\n",
    "def multiply(a, b):\n",
    "    return a * b\n",
    "\n",
    "result = multiply(3, 4) + add(1, 2)\n",
    "print(result)"
   ]
  },
  {
   "cell_type": "markdown",
   "id": "02aa6dd4",
   "metadata": {},
   "source": [
    "In this example, we have two functions: add and multiply. The add function takes two numbers and returns their sum, while the multiply function takes two numbers and returns their product. We then use the return values of these functions to perform calculations and store the final result in the result variable."
   ]
  },
  {
   "cell_type": "markdown",
   "id": "a1eafc4f",
   "metadata": {},
   "source": [
    "Functions can also have default parameter values, which are used when a parameter is not provided. Here's an example:"
   ]
  },
  {
   "cell_type": "code",
   "execution_count": 4,
   "id": "5903a999",
   "metadata": {},
   "outputs": [
    {
     "name": "stdout",
     "output_type": "stream",
     "text": [
      "Hello, Stranger!\n",
      "Hello, Alice!\n"
     ]
    }
   ],
   "source": [
    "def greet(name=\"Stranger\"):\n",
    "    print(\"Hello, \" + name + \"!\")\n",
    "\n",
    "greet()\n",
    "greet(\"Alice\")"
   ]
  },
  {
   "cell_type": "markdown",
   "id": "658348b6",
   "metadata": {},
   "source": [
    "In this example, the greet function has a default parameter value of \"Stranger\". If we call the function without providing a name, it uses the default value. However, if we pass a name, it uses the provided value instead."
   ]
  },
  {
   "cell_type": "markdown",
   "id": "777303c9",
   "metadata": {},
   "source": [
    "# Some Function Benefits in Python\n",
    "\n",
    "Reusing Code: Functions allow us to write a block of code once and reuse it multiple times throughout our program. It's like having a special tool that we can use whenever we need it. For example, if we have a piece of code that calculates the area of a rectangle, we can put it inside a function and use it whenever we want to calculate the area of a rectangle without rewriting the code every time.\n",
    "\n",
    "Organizing Code: Functions help us organize our code by breaking it into smaller, more manageable chunks. Just like organizing toys in different boxes, functions allow us to group related code together and make our program easier to read and understand. Each function can have a specific purpose, making it clear what each part of the code does.\n",
    "\n",
    "Modularity: Functions promote modularity, which means that we can work on different parts of a program independently. It's like building with Lego blocks, where each block can be created and tested separately. By dividing our program into functions, we can focus on one part at a time, making it easier to debug and maintain our code.\n",
    "\n",
    "Abstraction: Functions provide a way to hide complex details and make our code easier to use. It's like using a remote control to turn on the TV instead of understanding all the electronic circuits inside. We can create functions with meaningful names and inputs, so that other programmers (including ourselves) can use them without worrying about how they are implemented internally.\n",
    "\n",
    "Code Readability: Functions make our code more readable and self-explanatory. When we give a function a descriptive name, it becomes easier to understand what that function does just by reading its name. It's like labeling different sections of a book with clear titles, making it easier to find the information we need.\n",
    "\n",
    "Code Reusability: Functions can be shared among different programs or projects. It's like having a recipe that we can use to bake cookies anytime, not just for a specific occasion. We can create a library of functions that we can reuse in different projects, saving time and effort.\n",
    "\n",
    "Parameterization: Functions can take input values called parameters or arguments. It's like giving someone instructions with blanks to fill in. We can define functions that can work with different data by accepting parameters. This allows us to write flexible and adaptable code that can handle various situations.\n",
    "\n",
    "Returning Results: Functions can also return output values after performing some operations. It's like getting a gift or a result after completing a task. We can use these returned values in our program to make decisions, perform calculations, or display information to the user."
   ]
  },
  {
   "cell_type": "markdown",
   "id": "02012b2d",
   "metadata": {},
   "source": [
    "Examples"
   ]
  },
  {
   "cell_type": "code",
   "execution_count": 5,
   "id": "83b4cb09",
   "metadata": {},
   "outputs": [
    {
     "data": {
      "text/plain": [
       "6"
      ]
     },
     "execution_count": 5,
     "metadata": {},
     "output_type": "execute_result"
    }
   ],
   "source": [
    "def sum_of_three_numbers(num1, num2, num3):\n",
    "    total = num1 + num2 + num3\n",
    "    return total\n",
    "\n",
    "sum_of_three_numbers(2,2,2)"
   ]
  },
  {
   "cell_type": "code",
   "execution_count": 6,
   "id": "8d939588",
   "metadata": {},
   "outputs": [
    {
     "name": "stdout",
     "output_type": "stream",
     "text": [
      "Alexander, Hello and how are you? \n",
      "Emmanuel, Hello and how are you? \n",
      "Oyindamola, Hello and how are you? \n"
     ]
    }
   ],
   "source": [
    "def greet_users(fname):\n",
    "    return(fname + \", Hello and how are you? \")\n",
    "\n",
    "\n",
    "print(greet_users(\"Alexander\"))\n",
    "print(greet_users(\"Emmanuel\"))\n",
    "print(greet_users(\"Oyindamola\"))"
   ]
  },
  {
   "cell_type": "code",
   "execution_count": 7,
   "id": "8dd9970e",
   "metadata": {},
   "outputs": [
    {
     "name": "stdout",
     "output_type": "stream",
     "text": [
      "Akinsulire Oyindamola\n"
     ]
    }
   ],
   "source": [
    "def users_details(fname, lname):\n",
    "    return(fname +\" \"+ lname)\n",
    "\n",
    "\n",
    "print(users_details(\"Akinsulire\", \"Oyindamola\"))"
   ]
  },
  {
   "cell_type": "markdown",
   "id": "1f0953be",
   "metadata": {},
   "source": [
    "# ARGUEMENT"
   ]
  },
  {
   "cell_type": "markdown",
   "id": "fa535d58",
   "metadata": {},
   "source": [
    "Arguments in Python functions are the values that are passed into a function when it is called. They provide a way to provide input data to the function so that it can perform its operations using that data. Arguments allow functions to be more flexible and adaptable to different situations.\n",
    "\n",
    "There are two types of arguments in Python functions: positional arguments and keyword arguments.\n",
    "\n",
    "Positional Arguments:\n",
    "\n",
    "Positional arguments are passed to a function based on their position or order.\n",
    "The number and order of positional arguments in the function call must match the function definition.\n",
    "The value of the first argument in the function call is assigned to the first parameter in the function definition, the second argument value is assigned to the second parameter, and so on.\n",
    "Here's an example:"
   ]
  },
  {
   "cell_type": "code",
   "execution_count": 8,
   "id": "62f58dcd",
   "metadata": {},
   "outputs": [
    {
     "name": "stdout",
     "output_type": "stream",
     "text": [
      "Hello, Alice! You are 25 years old.\n"
     ]
    }
   ],
   "source": [
    "def greet(name, age):\n",
    "    print(\"Hello, \" + name + \"! You are \" + str(age) + \" years old.\")\n",
    "\n",
    "greet(\"Alice\", 25)\n"
   ]
  },
  {
   "cell_type": "markdown",
   "id": "856a108c",
   "metadata": {},
   "source": [
    "In this example, the function greet takes two positional arguments: name and age. When we call the function and pass the values \"Alice\" and 25, those values are assigned to the respective parameters inside the function."
   ]
  },
  {
   "cell_type": "code",
   "execution_count": 9,
   "id": "425cbf77",
   "metadata": {},
   "outputs": [
    {
     "name": "stdout",
     "output_type": "stream",
     "text": [
      "6\n"
     ]
    }
   ],
   "source": [
    "def calculate_sum(a, b, c):\n",
    "    return a + b + c\n",
    "\n",
    "result = calculate_sum(1, 2, 3)\n",
    "print(result)\n"
   ]
  },
  {
   "cell_type": "code",
   "execution_count": 10,
   "id": "a51ea721",
   "metadata": {},
   "outputs": [
    {
     "name": "stdout",
     "output_type": "stream",
     "text": [
      "John Doe\n"
     ]
    }
   ],
   "source": [
    "def concatenate_strings(first_name, last_name):\n",
    "    return first_name + \" \" + last_name\n",
    "\n",
    "full_name = concatenate_strings(\"John\", \"Doe\")\n",
    "print(full_name)\n"
   ]
  },
  {
   "cell_type": "code",
   "execution_count": 11,
   "id": "6afe235b",
   "metadata": {},
   "outputs": [
    {
     "name": "stdout",
     "output_type": "stream",
     "text": [
      "9\n"
     ]
    }
   ],
   "source": [
    "def find_maximum(a, b, c):\n",
    "    return max(a, b, c)\n",
    "\n",
    "maximum = find_maximum(5, 2, 9)\n",
    "print(maximum)\n"
   ]
  },
  {
   "cell_type": "code",
   "execution_count": 12,
   "id": "074c884e",
   "metadata": {},
   "outputs": [
    {
     "name": "stdout",
     "output_type": "stream",
     "text": [
      "8\n"
     ]
    }
   ],
   "source": [
    "def power(base, exponent):\n",
    "    return base ** exponent\n",
    "\n",
    "result = power(2, 3)\n",
    "print(result)\n"
   ]
  },
  {
   "cell_type": "code",
   "execution_count": 13,
   "id": "5c9e48a7",
   "metadata": {},
   "outputs": [
    {
     "name": "stdout",
     "output_type": "stream",
     "text": [
      "5.0\n"
     ]
    }
   ],
   "source": [
    "def calculate_average(a, b, c, d):\n",
    "    return (a + b + c + d) / 4\n",
    "\n",
    "avg = calculate_average(2, 4, 6, 8)\n",
    "print(avg)\n"
   ]
  },
  {
   "cell_type": "markdown",
   "id": "072e9f47",
   "metadata": {},
   "source": [
    "Keyword Arguments:\n",
    "\n",
    "Keyword arguments are passed to a function using the parameter name along with the corresponding value.\n",
    "They are useful when we want to specify arguments selectively or in a different order.\n",
    "We can use the parameter name followed by an equals sign (=) and the value to assign a value to a specific parameter.\n",
    "Here's an example:"
   ]
  },
  {
   "cell_type": "code",
   "execution_count": 14,
   "id": "2a2762f8",
   "metadata": {},
   "outputs": [
    {
     "name": "stdout",
     "output_type": "stream",
     "text": [
      "Hello, Bob! You are 30 years old.\n"
     ]
    }
   ],
   "source": [
    "def greet(name, age):\n",
    "    print(\"Hello, \" + name + \"! You are \" + str(age) + \" years old.\")\n",
    "\n",
    "greet(age=30, name=\"Bob\")"
   ]
  },
  {
   "cell_type": "code",
   "execution_count": 15,
   "id": "5b75dc1d",
   "metadata": {},
   "outputs": [
    {
     "name": "stdout",
     "output_type": "stream",
     "text": [
      "Hello, Alice! You are 18 years old and from New York.\n"
     ]
    }
   ],
   "source": [
    "def greet(name, age=18, city=\"Unknown\"):\n",
    "    print(\"Hello, \" + name + \"! You are \" + str(age) + \" years old and from \" + city + \".\")\n",
    "\n",
    "greet(\"Alice\", city=\"New York\")"
   ]
  },
  {
   "cell_type": "code",
   "execution_count": 16,
   "id": "56262950",
   "metadata": {},
   "outputs": [
    {
     "name": "stdout",
     "output_type": "stream",
     "text": [
      "5\n"
     ]
    }
   ],
   "source": [
    "def multiply(a=1, b=1):\n",
    "    return a * b\n",
    "\n",
    "result = multiply(b=5)\n",
    "print(result)\n"
   ]
  },
  {
   "cell_type": "code",
   "execution_count": 17,
   "id": "dc48695c",
   "metadata": {},
   "outputs": [
    {
     "name": "stdout",
     "output_type": "stream",
     "text": [
      "7\n"
     ]
    }
   ],
   "source": [
    "def add(a, b):\n",
    "    return a + b\n",
    "\n",
    "result = add(3, b=4)\n",
    "print(result)\n"
   ]
  },
  {
   "cell_type": "code",
   "execution_count": 18,
   "id": "3460257d",
   "metadata": {},
   "outputs": [
    {
     "name": "stdout",
     "output_type": "stream",
     "text": [
      "Name: Alice\n",
      "Age: 25\n"
     ]
    }
   ],
   "source": [
    "def print_info(name, age):\n",
    "    print(\"Name:\", name)\n",
    "    print(\"Age:\", age)\n",
    "\n",
    "print_info(\"Alice\", age=25)\n"
   ]
  },
  {
   "cell_type": "code",
   "execution_count": 19,
   "id": "229397d7",
   "metadata": {},
   "outputs": [
    {
     "name": "stdout",
     "output_type": "stream",
     "text": [
      "Bob is 30 years old and lives in London.\n"
     ]
    }
   ],
   "source": [
    "def describe_person(name, age, city):\n",
    "    print(name + \" is \" + str(age) + \" years old and lives in \" + city + \".\")\n",
    "\n",
    "describe_person(city=\"London\", age=30, name=\"Bob\")\n"
   ]
  },
  {
   "cell_type": "markdown",
   "id": "b5f670d4",
   "metadata": {},
   "source": [
    "# Assignment\n",
    "Use all the condtional statement and loop learnt in class in your own function; you can also create your own conditional statement and loop in any function you write."
   ]
  }
 ],
 "metadata": {
  "kernelspec": {
   "display_name": "Python 3 (ipykernel)",
   "language": "python",
   "name": "python3"
  },
  "language_info": {
   "codemirror_mode": {
    "name": "ipython",
    "version": 3
   },
   "file_extension": ".py",
   "mimetype": "text/x-python",
   "name": "python",
   "nbconvert_exporter": "python",
   "pygments_lexer": "ipython3",
   "version": "3.10.9"
  }
 },
 "nbformat": 4,
 "nbformat_minor": 5
}
