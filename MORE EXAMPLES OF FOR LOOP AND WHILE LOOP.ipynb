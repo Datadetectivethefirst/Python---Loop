{
 "cells": [
  {
   "cell_type": "markdown",
   "id": "c0e7aad3",
   "metadata": {},
   "source": [
    "# FOR LOOP"
   ]
  },
  {
   "cell_type": "code",
   "execution_count": 1,
   "id": "c56e3101",
   "metadata": {},
   "outputs": [
    {
     "name": "stdout",
     "output_type": "stream",
     "text": [
      "1\n",
      "2\n",
      "3\n",
      "4\n",
      "5\n"
     ]
    }
   ],
   "source": [
    "\n",
    "#Printing numbers from 1 to 5:\n",
    "for num in range(1, 6):\n",
    "    print(num)\n"
   ]
  },
  {
   "cell_type": "code",
   "execution_count": 2,
   "id": "2a503c7d",
   "metadata": {},
   "outputs": [
    {
     "name": "stdout",
     "output_type": "stream",
     "text": [
      "Sum: 15\n"
     ]
    }
   ],
   "source": [
    "#Summing up numbers in a list:\n",
    "numbers = [1, 2, 3, 4, 5]\n",
    "sum = 0\n",
    "\n",
    "for num in numbers:\n",
    "    sum += num\n",
    "\n",
    "print(\"Sum:\", sum)\n"
   ]
  },
  {
   "cell_type": "code",
   "execution_count": 3,
   "id": "b0064d95",
   "metadata": {},
   "outputs": [
    {
     "name": "stdout",
     "output_type": "stream",
     "text": [
      "H\n",
      "e\n",
      "l\n",
      "l\n",
      "o\n"
     ]
    }
   ],
   "source": [
    "#Printing characters of a string:\n",
    "word = \"Hello\"\n",
    "\n",
    "for char in word:\n",
    "    print(char)\n",
    "\n",
    "    "
   ]
  },
  {
   "cell_type": "code",
   "execution_count": 4,
   "id": "312bbb29",
   "metadata": {},
   "outputs": [
    {
     "name": "stdout",
     "output_type": "stream",
     "text": [
      "name: Alice\n",
      "age: 25\n",
      "city: New York\n"
     ]
    }
   ],
   "source": [
    "#Iterating over a dictionary:\n",
    "person = {\"name\": \"Alice\", \"age\": 25, \"city\": \"New York\"}\n",
    "\n",
    "for key, value in person.items():\n",
    "    print(key + \":\", value)\n"
   ]
  },
  {
   "cell_type": "code",
   "execution_count": 5,
   "id": "1cbeedaf",
   "metadata": {},
   "outputs": [
    {
     "name": "stdout",
     "output_type": "stream",
     "text": [
      "Max number: 9\n"
     ]
    }
   ],
   "source": [
    "#Finding the maximum number in a list:\n",
    "numbers = [7, 2, 9, 1, 5]\n",
    "max_num = numbers[0]\n",
    "\n",
    "for num in numbers:\n",
    "    if num > max_num:\n",
    "        max_num = num\n",
    "\n",
    "print(\"Max number:\", max_num)\n"
   ]
  },
  {
   "cell_type": "code",
   "execution_count": 6,
   "id": "48d6d0ea",
   "metadata": {},
   "outputs": [
    {
     "name": "stdout",
     "output_type": "stream",
     "text": [
      "Index 0 : apple\n",
      "Index 1 : banana\n",
      "Index 2 : orange\n"
     ]
    }
   ],
   "source": [
    "#Printing items with their indices in a list:\n",
    "fruits = [\"apple\", \"banana\", \"orange\"]\n",
    "\n",
    "for index, fruit in enumerate(fruits):\n",
    "    print(\"Index\", index, \":\", fruit)\n"
   ]
  },
  {
   "cell_type": "code",
   "execution_count": 7,
   "id": "102511fd",
   "metadata": {},
   "outputs": [
    {
     "name": "stdout",
     "output_type": "stream",
     "text": [
      "Alice is 25 years old.\n",
      "Bob is 30 years old.\n",
      "Charlie is 35 years old.\n"
     ]
    }
   ],
   "source": [
    "#Iterating over multiple lists simultaneously:\n",
    "names = [\"Alice\", \"Bob\", \"Charlie\"]\n",
    "ages = [25, 30, 35]\n",
    "\n",
    "for name, age in zip(names, ages):\n",
    "    print(name, \"is\", age, \"years old.\")\n"
   ]
  },
  {
   "cell_type": "code",
   "execution_count": 8,
   "id": "c91ce4c8",
   "metadata": {},
   "outputs": [
    {
     "name": "stdout",
     "output_type": "stream",
     "text": [
      "[2, 4, 6, 8, 10]\n"
     ]
    }
   ],
   "source": [
    "#Multiplying each element in a list by 2:\n",
    "numbers = [1, 2, 3, 4, 5]\n",
    "\n",
    "for i in range(len(numbers)):\n",
    "    numbers[i] *= 2\n",
    "\n",
    "print(numbers)\n"
   ]
  },
  {
   "cell_type": "code",
   "execution_count": 9,
   "id": "125c29e2",
   "metadata": {},
   "outputs": [
    {
     "name": "stdout",
     "output_type": "stream",
     "text": [
      "*\n",
      "**\n",
      "***\n",
      "****\n",
      "*****\n"
     ]
    }
   ],
   "source": [
    "#Printing a pattern using nested loops:\n",
    "for i in range(1, 6):\n",
    "    for j in range(i):\n",
    "        print(\"*\", end=\"\")\n",
    "    print()\n"
   ]
  },
  {
   "cell_type": "code",
   "execution_count": 10,
   "id": "9e82a5b5",
   "metadata": {},
   "outputs": [
    {
     "name": "stdout",
     "output_type": "stream",
     "text": [
      "n\n",
      "o\n",
      "h\n",
      "t\n",
      "y\n",
      "P\n"
     ]
    }
   ],
   "source": [
    "#Iterating over a string in reverse:\n",
    "word = \"Python\"\n",
    "\n",
    "for char in reversed(word):\n",
    "    print(char)"
   ]
  },
  {
   "cell_type": "markdown",
   "id": "e3ba84de",
   "metadata": {},
   "source": [
    "# WHILE LOOP"
   ]
  },
  {
   "cell_type": "code",
   "execution_count": 11,
   "id": "f27d997f",
   "metadata": {},
   "outputs": [
    {
     "name": "stdout",
     "output_type": "stream",
     "text": [
      "1\n",
      "2\n",
      "3\n",
      "4\n",
      "5\n"
     ]
    }
   ],
   "source": [
    "#Counting from 1 to 5:\n",
    "count = 1\n",
    "\n",
    "while count <= 5:\n",
    "    print(count)\n",
    "    count += 1\n"
   ]
  },
  {
   "cell_type": "code",
   "execution_count": 12,
   "id": "7f1b84cc",
   "metadata": {},
   "outputs": [
    {
     "name": "stdout",
     "output_type": "stream",
     "text": [
      "Factorial: 120\n"
     ]
    }
   ],
   "source": [
    "#Calculating the factorial of a number:\n",
    "num = 5\n",
    "factorial = 1\n",
    "\n",
    "while num > 0:\n",
    "    factorial *= num\n",
    "    num -= 1\n",
    "\n",
    "print(\"Factorial:\", factorial)\n"
   ]
  },
  {
   "cell_type": "code",
   "execution_count": 13,
   "id": "643cb16c",
   "metadata": {},
   "outputs": [
    {
     "name": "stdout",
     "output_type": "stream",
     "text": [
      "2\n",
      "4\n",
      "6\n",
      "8\n",
      "10\n"
     ]
    }
   ],
   "source": [
    "#Printing even numbers from 1 to 10:\n",
    "num = 1\n",
    "\n",
    "while num <= 10:\n",
    "    if num % 2 == 0:\n",
    "        print(num)\n",
    "    num += 1\n"
   ]
  },
  {
   "cell_type": "code",
   "execution_count": null,
   "id": "b66b3355",
   "metadata": {},
   "outputs": [],
   "source": [
    "#Guessing game with a condition:\n",
    "secret_number = 7\n",
    "guess = 0\n",
    "\n",
    "while guess != secret_number:\n",
    "    guess = int(input(\"Guess the number: \"))\n",
    "\n",
    "print(\"Congratulations! You guessed it right.\")\n"
   ]
  }
 ],
 "metadata": {
  "kernelspec": {
   "display_name": "Python 3 (ipykernel)",
   "language": "python",
   "name": "python3"
  },
  "language_info": {
   "codemirror_mode": {
    "name": "ipython",
    "version": 3
   },
   "file_extension": ".py",
   "mimetype": "text/x-python",
   "name": "python",
   "nbconvert_exporter": "python",
   "pygments_lexer": "ipython3",
   "version": "3.10.9"
  }
 },
 "nbformat": 4,
 "nbformat_minor": 5
}
